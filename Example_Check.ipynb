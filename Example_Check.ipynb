{
 "cells": [
  {
   "cell_type": "markdown",
   "id": "d80c9853-48f9-4740-acf0-e57ffad4dedc",
   "metadata": {},
   "source": [
    "# Validate the Images and Ground truth images in Examples folder\n",
    "\n",
    "This notebook checks to ensure the image and it's cooresponding Ground Truth have the same number of rows and columns.  It also check the Ground Truthe to see if it has a relitivly small (< 5) labeled objects. It is possible to have more than 5 but that would be a special case. \n",
    "\n",
    "Someone needs to go threw all of the Examples and fix them. "
   ]
  },
  {
   "cell_type": "code",
   "execution_count": 36,
   "id": "3a4301ab-0705-42e1-b794-ab647c4eba65",
   "metadata": {
    "tags": []
   },
   "outputs": [],
   "source": [
    "# Modified from code by navya\n",
    "import pathlib\n",
    "imagepath = pathlib.Path('./Image_data/Examples')\n",
    "GTS = imagepath.glob('*_GT*')\n",
    "image_paths = []\n",
    "GT_paths = []\n",
    "for GT_path in GTS:\n",
    "    rootname=GT_path.name[:-7]\n",
    "    imagepath = pathlib.Path('./Image_data/Examples')\n",
    "    files = imagepath.glob(f\"*{rootname}*\")\n",
    "    for image in files:\n",
    "        if \"GT\" in image.name:\n",
    "            GT_paths.append(image) \n",
    "        else:\n",
    "            image_paths.append(image)"
   ]
  },
  {
   "cell_type": "code",
   "execution_count": 73,
   "id": "2c96d2e4-24b8-4389-995f-cad9c7931dba",
   "metadata": {
    "tags": []
   },
   "outputs": [
    {
     "name": "stdout",
     "output_type": "stream",
     "text": [
      "Possible ERROR: Airpods.JPEG Ground Truth has 250 objects.\n",
      "                Typicall images only have less than 5.\n",
      "ERROR ants.jpg first dimentions do not match GT-1210!=IM-1195\n",
      "ERROR ants.jpg second dimentions do not match GT-677!=IM-669\n",
      "Possible ERROR: ants.jpg Ground Truth has 248 objects.\n",
      "                Typicall images only have less than 5.\n",
      "Possible ERROR: a_walk_in_the_park.jpg Ground Truth has 255 objects.\n",
      "                Typicall images only have less than 5.\n",
      "ERROR Bambooplant.jpg first dimentions do not match GT-4032!=IM-3024\n",
      "ERROR Bambooplant.jpg second dimentions do not match GT-3024!=IM-4032\n",
      "Possible ERROR: Bambooplant.jpg Ground Truth has 256 objects.\n",
      "                Typicall images only have less than 5.\n",
      "Possible ERROR: Books.jpg Ground Truth has 256 objects.\n",
      "                Typicall images only have less than 5.\n",
      "Possible ERROR: bread.jpg Ground Truth has 227 objects.\n",
      "                Typicall images only have less than 5.\n",
      "Possible ERROR: Cameron.jpg Ground Truth has 209 objects.\n",
      "                Typicall images only have less than 5.\n",
      "Possible ERROR: Headphones.jpeg Ground Truth has 256 objects.\n",
      "                Typicall images only have less than 5.\n",
      "Possible ERROR: Leaves.jpeg Ground Truth has 98 objects.\n",
      "                Typicall images only have less than 5.\n",
      "Possible ERROR: Mushrooms.jpeg Ground Truth has 92 objects.\n",
      "                Typicall images only have less than 5.\n",
      "Possible ERROR: mz.jpg Ground Truth has 256 objects.\n",
      "                Typicall images only have less than 5.\n",
      "Possible ERROR: SoapFilm.jpg Ground Truth has 216 objects.\n",
      "                Typicall images only have less than 5.\n",
      "Possible ERROR: StreetLamp.jpg Ground Truth has 35 objects.\n",
      "                Typicall images only have less than 5.\n",
      "ERROR Street.png first dimentions do not match GT-1482!=IM-384\n",
      "ERROR Street.png second dimentions do not match GT-1112!=IM-512\n",
      "Possible ERROR: Street.png Ground Truth has 35 objects.\n",
      "                Typicall images only have less than 5.\n",
      "ERROR StreetLamp.jpg first dimentions do not match GT-384!=IM-1482\n",
      "ERROR StreetLamp.jpg second dimentions do not match GT-512!=IM-1112\n",
      "Possible ERROR: trump.png Ground Truth has 230 objects.\n",
      "                Typicall images only have less than 5.\n",
      "Possible ERROR: Waterbottle.jpg Ground Truth has 256 objects.\n",
      "                Typicall images only have less than 5.\n"
     ]
    }
   ],
   "source": [
    "import matplotlib.pylab as plt\n",
    "import imageio.v3 as imlib\n",
    "import numpy as np\n",
    "\n",
    "for image_path, GT_path in zip(image_paths, GT_paths):\n",
    "    image = imlib.imread(image_path)\n",
    "    GT = imlib.imread(GT_path)\n",
    "    if not GT.shape[0] == image.shape[0]:\n",
    "        print(f\"ERROR {image_path.name} first dimentions do not match GT-{GT.shape[0]}!=IM-{image.shape[0]}\")\n",
    "    if not GT.shape[1] == image.shape[1]:\n",
    "        print(f\"ERROR {image_path.name} second dimentions do not match GT-{GT.shape[1]}!=IM-{image.shape[1]}\")\n",
    "    if len(np.unique(GT)) > 5:\n",
    "        print(f\"Possible ERROR: {image_path.name} Ground Truth has {len(np.unique(GT))} objects.\")\n",
    "        print( \"                Typicall images only have less than 5.\")\n",
    "        "
   ]
  },
  {
   "cell_type": "code",
   "execution_count": null,
   "id": "9aa9bf4a-8f98-452e-80c4-113fc36d886a",
   "metadata": {},
   "outputs": [],
   "source": []
  }
 ],
 "metadata": {
  "kernelspec": {
   "display_name": "Python 3 (ipykernel)",
   "language": "python",
   "name": "python3"
  },
  "language_info": {
   "codemirror_mode": {
    "name": "ipython",
    "version": 3
   },
   "file_extension": ".py",
   "mimetype": "text/x-python",
   "name": "python",
   "nbconvert_exporter": "python",
   "pygments_lexer": "ipython3",
   "version": "3.10.11"
  }
 },
 "nbformat": 4,
 "nbformat_minor": 5
}
